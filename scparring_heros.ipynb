{
 "cells": [
  {
   "cell_type": "code",
   "execution_count": 1,
   "metadata": {},
   "outputs": [],
   "source": [
    "import requests\n",
    "from bs4 import BeautifulSoup \n",
    "import pandas as pd  "
   ]
  },
  {
   "cell_type": "code",
   "execution_count": 2,
   "metadata": {},
   "outputs": [
    {
     "name": "stdout",
     "output_type": "stream",
     "text": [
      "Информация о героях сохранена в файл 'heroes_info.csv'\n"
     ]
    }
   ],
   "source": [
    "url = 'https://dota2.fandom.com/wiki/Heroes'\n",
    "response = requests.get(url)\n",
    "html_content = response.text\n",
    "\n",
    "soup = BeautifulSoup(html_content, 'html.parser')\n",
    "\n",
    "hero_divs = soup.find_all('div', {'style': 'width:150px; height:84px; display:inline-block; overflow:hidden; margin:1px'})\n",
    "\n",
    "heroes_info = []\n",
    "\n",
    "for hero_div in hero_divs:\n",
    "    hero_link = hero_div.find('a')\n",
    "    hero_name = hero_link.get('title')\n",
    "    heroes_info.append({'name': hero_name})\n",
    "\n",
    "\n",
    "df = pd.DataFrame(heroes_info)\n",
    "\n",
    "# Записываем DataFrame в CSV файл\n",
    "df.to_csv('heroes_info.csv', index=False)\n",
    "\n",
    "print(\"Информация о героях сохранена в файл 'heroes_info.csv'\")"
   ]
  }
 ],
 "metadata": {
  "kernelspec": {
   "display_name": "venv",
   "language": "python",
   "name": "python3"
  },
  "language_info": {
   "codemirror_mode": {
    "name": "ipython",
    "version": 3
   },
   "file_extension": ".py",
   "mimetype": "text/x-python",
   "name": "python",
   "nbconvert_exporter": "python",
   "pygments_lexer": "ipython3",
   "version": "3.11.9"
  }
 },
 "nbformat": 4,
 "nbformat_minor": 2
}
