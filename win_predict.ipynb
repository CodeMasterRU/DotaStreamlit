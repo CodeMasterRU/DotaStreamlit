{
 "cells": [
  {
   "cell_type": "code",
   "execution_count": 3,
   "metadata": {},
   "outputs": [],
   "source": [
    "import os\n",
    "import pandas as pd\n",
    "\n",
    "PATH_TO_DATA = './Data/'\n",
    "\n",
    "df_train_features = pd.read_csv(os.path.join(PATH_TO_DATA, \n",
    "                                             'train_features.csv'), \n",
    "                                    index_col='match_id_hash')\n",
    "df_train_targets = pd.read_csv(os.path.join(PATH_TO_DATA, \n",
    "                                            'train_targets.csv'), \n",
    "                                   index_col='match_id_hash')"
   ]
  },
  {
   "cell_type": "code",
   "execution_count": 4,
   "metadata": {},
   "outputs": [
    {
     "data": {
      "text/plain": [
       "(39675, 245)"
      ]
     },
     "execution_count": 4,
     "metadata": {},
     "output_type": "execute_result"
    }
   ],
   "source": [
    "df_train_features.shape"
   ]
  },
  {
   "cell_type": "code",
   "execution_count": 5,
   "metadata": {},
   "outputs": [
    {
     "data": {
      "text/html": [
       "<div>\n",
       "<style scoped>\n",
       "    .dataframe tbody tr th:only-of-type {\n",
       "        vertical-align: middle;\n",
       "    }\n",
       "\n",
       "    .dataframe tbody tr th {\n",
       "        vertical-align: top;\n",
       "    }\n",
       "\n",
       "    .dataframe thead th {\n",
       "        text-align: right;\n",
       "    }\n",
       "</style>\n",
       "<table border=\"1\" class=\"dataframe\">\n",
       "  <thead>\n",
       "    <tr style=\"text-align: right;\">\n",
       "      <th></th>\n",
       "      <th>game_time</th>\n",
       "      <th>game_mode</th>\n",
       "      <th>lobby_type</th>\n",
       "      <th>objectives_len</th>\n",
       "      <th>chat_len</th>\n",
       "      <th>r1_hero_id</th>\n",
       "      <th>r1_kills</th>\n",
       "      <th>r1_deaths</th>\n",
       "      <th>r1_assists</th>\n",
       "      <th>r1_denies</th>\n",
       "      <th>...</th>\n",
       "      <th>d5_stuns</th>\n",
       "      <th>d5_creeps_stacked</th>\n",
       "      <th>d5_camps_stacked</th>\n",
       "      <th>d5_rune_pickups</th>\n",
       "      <th>d5_firstblood_claimed</th>\n",
       "      <th>d5_teamfight_participation</th>\n",
       "      <th>d5_towers_killed</th>\n",
       "      <th>d5_roshans_killed</th>\n",
       "      <th>d5_obs_placed</th>\n",
       "      <th>d5_sen_placed</th>\n",
       "    </tr>\n",
       "    <tr>\n",
       "      <th>match_id_hash</th>\n",
       "      <th></th>\n",
       "      <th></th>\n",
       "      <th></th>\n",
       "      <th></th>\n",
       "      <th></th>\n",
       "      <th></th>\n",
       "      <th></th>\n",
       "      <th></th>\n",
       "      <th></th>\n",
       "      <th></th>\n",
       "      <th></th>\n",
       "      <th></th>\n",
       "      <th></th>\n",
       "      <th></th>\n",
       "      <th></th>\n",
       "      <th></th>\n",
       "      <th></th>\n",
       "      <th></th>\n",
       "      <th></th>\n",
       "      <th></th>\n",
       "      <th></th>\n",
       "    </tr>\n",
       "  </thead>\n",
       "  <tbody>\n",
       "    <tr>\n",
       "      <th>a400b8f29dece5f4d266f49f1ae2e98a</th>\n",
       "      <td>155</td>\n",
       "      <td>22</td>\n",
       "      <td>7</td>\n",
       "      <td>1</td>\n",
       "      <td>11</td>\n",
       "      <td>11</td>\n",
       "      <td>0</td>\n",
       "      <td>0</td>\n",
       "      <td>0</td>\n",
       "      <td>0</td>\n",
       "      <td>...</td>\n",
       "      <td>0.000000</td>\n",
       "      <td>0</td>\n",
       "      <td>0</td>\n",
       "      <td>0</td>\n",
       "      <td>0</td>\n",
       "      <td>0.00</td>\n",
       "      <td>0</td>\n",
       "      <td>0</td>\n",
       "      <td>0</td>\n",
       "      <td>0</td>\n",
       "    </tr>\n",
       "    <tr>\n",
       "      <th>b9c57c450ce74a2af79c9ce96fac144d</th>\n",
       "      <td>658</td>\n",
       "      <td>4</td>\n",
       "      <td>0</td>\n",
       "      <td>3</td>\n",
       "      <td>10</td>\n",
       "      <td>15</td>\n",
       "      <td>7</td>\n",
       "      <td>2</td>\n",
       "      <td>0</td>\n",
       "      <td>7</td>\n",
       "      <td>...</td>\n",
       "      <td>0.000000</td>\n",
       "      <td>0</td>\n",
       "      <td>0</td>\n",
       "      <td>0</td>\n",
       "      <td>0</td>\n",
       "      <td>0.00</td>\n",
       "      <td>0</td>\n",
       "      <td>0</td>\n",
       "      <td>0</td>\n",
       "      <td>0</td>\n",
       "    </tr>\n",
       "    <tr>\n",
       "      <th>6db558535151ea18ca70a6892197db41</th>\n",
       "      <td>21</td>\n",
       "      <td>23</td>\n",
       "      <td>0</td>\n",
       "      <td>0</td>\n",
       "      <td>0</td>\n",
       "      <td>101</td>\n",
       "      <td>0</td>\n",
       "      <td>0</td>\n",
       "      <td>0</td>\n",
       "      <td>0</td>\n",
       "      <td>...</td>\n",
       "      <td>0.000000</td>\n",
       "      <td>0</td>\n",
       "      <td>0</td>\n",
       "      <td>0</td>\n",
       "      <td>0</td>\n",
       "      <td>0.00</td>\n",
       "      <td>0</td>\n",
       "      <td>0</td>\n",
       "      <td>0</td>\n",
       "      <td>0</td>\n",
       "    </tr>\n",
       "    <tr>\n",
       "      <th>46a0ddce8f7ed2a8d9bd5edcbb925682</th>\n",
       "      <td>576</td>\n",
       "      <td>22</td>\n",
       "      <td>7</td>\n",
       "      <td>1</td>\n",
       "      <td>4</td>\n",
       "      <td>14</td>\n",
       "      <td>1</td>\n",
       "      <td>0</td>\n",
       "      <td>3</td>\n",
       "      <td>1</td>\n",
       "      <td>...</td>\n",
       "      <td>8.664527</td>\n",
       "      <td>3</td>\n",
       "      <td>1</td>\n",
       "      <td>3</td>\n",
       "      <td>0</td>\n",
       "      <td>0.00</td>\n",
       "      <td>0</td>\n",
       "      <td>0</td>\n",
       "      <td>2</td>\n",
       "      <td>0</td>\n",
       "    </tr>\n",
       "    <tr>\n",
       "      <th>b1b35ff97723d9b7ade1c9c3cf48f770</th>\n",
       "      <td>453</td>\n",
       "      <td>22</td>\n",
       "      <td>7</td>\n",
       "      <td>1</td>\n",
       "      <td>3</td>\n",
       "      <td>42</td>\n",
       "      <td>0</td>\n",
       "      <td>1</td>\n",
       "      <td>1</td>\n",
       "      <td>0</td>\n",
       "      <td>...</td>\n",
       "      <td>0.000000</td>\n",
       "      <td>2</td>\n",
       "      <td>1</td>\n",
       "      <td>2</td>\n",
       "      <td>0</td>\n",
       "      <td>0.25</td>\n",
       "      <td>0</td>\n",
       "      <td>0</td>\n",
       "      <td>0</td>\n",
       "      <td>0</td>\n",
       "    </tr>\n",
       "  </tbody>\n",
       "</table>\n",
       "<p>5 rows × 245 columns</p>\n",
       "</div>"
      ],
      "text/plain": [
       "                                  game_time  game_mode  lobby_type  \\\n",
       "match_id_hash                                                        \n",
       "a400b8f29dece5f4d266f49f1ae2e98a        155         22           7   \n",
       "b9c57c450ce74a2af79c9ce96fac144d        658          4           0   \n",
       "6db558535151ea18ca70a6892197db41         21         23           0   \n",
       "46a0ddce8f7ed2a8d9bd5edcbb925682        576         22           7   \n",
       "b1b35ff97723d9b7ade1c9c3cf48f770        453         22           7   \n",
       "\n",
       "                                  objectives_len  chat_len  r1_hero_id  \\\n",
       "match_id_hash                                                            \n",
       "a400b8f29dece5f4d266f49f1ae2e98a               1        11          11   \n",
       "b9c57c450ce74a2af79c9ce96fac144d               3        10          15   \n",
       "6db558535151ea18ca70a6892197db41               0         0         101   \n",
       "46a0ddce8f7ed2a8d9bd5edcbb925682               1         4          14   \n",
       "b1b35ff97723d9b7ade1c9c3cf48f770               1         3          42   \n",
       "\n",
       "                                  r1_kills  r1_deaths  r1_assists  r1_denies  \\\n",
       "match_id_hash                                                                  \n",
       "a400b8f29dece5f4d266f49f1ae2e98a         0          0           0          0   \n",
       "b9c57c450ce74a2af79c9ce96fac144d         7          2           0          7   \n",
       "6db558535151ea18ca70a6892197db41         0          0           0          0   \n",
       "46a0ddce8f7ed2a8d9bd5edcbb925682         1          0           3          1   \n",
       "b1b35ff97723d9b7ade1c9c3cf48f770         0          1           1          0   \n",
       "\n",
       "                                  ...  d5_stuns  d5_creeps_stacked  \\\n",
       "match_id_hash                     ...                                \n",
       "a400b8f29dece5f4d266f49f1ae2e98a  ...  0.000000                  0   \n",
       "b9c57c450ce74a2af79c9ce96fac144d  ...  0.000000                  0   \n",
       "6db558535151ea18ca70a6892197db41  ...  0.000000                  0   \n",
       "46a0ddce8f7ed2a8d9bd5edcbb925682  ...  8.664527                  3   \n",
       "b1b35ff97723d9b7ade1c9c3cf48f770  ...  0.000000                  2   \n",
       "\n",
       "                                  d5_camps_stacked  d5_rune_pickups  \\\n",
       "match_id_hash                                                         \n",
       "a400b8f29dece5f4d266f49f1ae2e98a                 0                0   \n",
       "b9c57c450ce74a2af79c9ce96fac144d                 0                0   \n",
       "6db558535151ea18ca70a6892197db41                 0                0   \n",
       "46a0ddce8f7ed2a8d9bd5edcbb925682                 1                3   \n",
       "b1b35ff97723d9b7ade1c9c3cf48f770                 1                2   \n",
       "\n",
       "                                  d5_firstblood_claimed  \\\n",
       "match_id_hash                                             \n",
       "a400b8f29dece5f4d266f49f1ae2e98a                      0   \n",
       "b9c57c450ce74a2af79c9ce96fac144d                      0   \n",
       "6db558535151ea18ca70a6892197db41                      0   \n",
       "46a0ddce8f7ed2a8d9bd5edcbb925682                      0   \n",
       "b1b35ff97723d9b7ade1c9c3cf48f770                      0   \n",
       "\n",
       "                                  d5_teamfight_participation  \\\n",
       "match_id_hash                                                  \n",
       "a400b8f29dece5f4d266f49f1ae2e98a                        0.00   \n",
       "b9c57c450ce74a2af79c9ce96fac144d                        0.00   \n",
       "6db558535151ea18ca70a6892197db41                        0.00   \n",
       "46a0ddce8f7ed2a8d9bd5edcbb925682                        0.00   \n",
       "b1b35ff97723d9b7ade1c9c3cf48f770                        0.25   \n",
       "\n",
       "                                  d5_towers_killed  d5_roshans_killed  \\\n",
       "match_id_hash                                                           \n",
       "a400b8f29dece5f4d266f49f1ae2e98a                 0                  0   \n",
       "b9c57c450ce74a2af79c9ce96fac144d                 0                  0   \n",
       "6db558535151ea18ca70a6892197db41                 0                  0   \n",
       "46a0ddce8f7ed2a8d9bd5edcbb925682                 0                  0   \n",
       "b1b35ff97723d9b7ade1c9c3cf48f770                 0                  0   \n",
       "\n",
       "                                  d5_obs_placed  d5_sen_placed  \n",
       "match_id_hash                                                   \n",
       "a400b8f29dece5f4d266f49f1ae2e98a              0              0  \n",
       "b9c57c450ce74a2af79c9ce96fac144d              0              0  \n",
       "6db558535151ea18ca70a6892197db41              0              0  \n",
       "46a0ddce8f7ed2a8d9bd5edcbb925682              2              0  \n",
       "b1b35ff97723d9b7ade1c9c3cf48f770              0              0  \n",
       "\n",
       "[5 rows x 245 columns]"
      ]
     },
     "execution_count": 5,
     "metadata": {},
     "output_type": "execute_result"
    }
   ],
   "source": [
    "df_train_features.head()"
   ]
  },
  {
   "cell_type": "code",
   "execution_count": 6,
   "metadata": {},
   "outputs": [
    {
     "data": {
      "text/html": [
       "<div>\n",
       "<style scoped>\n",
       "    .dataframe tbody tr th:only-of-type {\n",
       "        vertical-align: middle;\n",
       "    }\n",
       "\n",
       "    .dataframe tbody tr th {\n",
       "        vertical-align: top;\n",
       "    }\n",
       "\n",
       "    .dataframe thead th {\n",
       "        text-align: right;\n",
       "    }\n",
       "</style>\n",
       "<table border=\"1\" class=\"dataframe\">\n",
       "  <thead>\n",
       "    <tr style=\"text-align: right;\">\n",
       "      <th></th>\n",
       "      <th>game_time</th>\n",
       "      <th>radiant_win</th>\n",
       "      <th>duration</th>\n",
       "      <th>time_remaining</th>\n",
       "      <th>next_roshan_team</th>\n",
       "    </tr>\n",
       "    <tr>\n",
       "      <th>match_id_hash</th>\n",
       "      <th></th>\n",
       "      <th></th>\n",
       "      <th></th>\n",
       "      <th></th>\n",
       "      <th></th>\n",
       "    </tr>\n",
       "  </thead>\n",
       "  <tbody>\n",
       "    <tr>\n",
       "      <th>a400b8f29dece5f4d266f49f1ae2e98a</th>\n",
       "      <td>155</td>\n",
       "      <td>False</td>\n",
       "      <td>992</td>\n",
       "      <td>837</td>\n",
       "      <td>NaN</td>\n",
       "    </tr>\n",
       "    <tr>\n",
       "      <th>b9c57c450ce74a2af79c9ce96fac144d</th>\n",
       "      <td>658</td>\n",
       "      <td>True</td>\n",
       "      <td>1154</td>\n",
       "      <td>496</td>\n",
       "      <td>NaN</td>\n",
       "    </tr>\n",
       "    <tr>\n",
       "      <th>6db558535151ea18ca70a6892197db41</th>\n",
       "      <td>21</td>\n",
       "      <td>True</td>\n",
       "      <td>1503</td>\n",
       "      <td>1482</td>\n",
       "      <td>Radiant</td>\n",
       "    </tr>\n",
       "    <tr>\n",
       "      <th>46a0ddce8f7ed2a8d9bd5edcbb925682</th>\n",
       "      <td>576</td>\n",
       "      <td>True</td>\n",
       "      <td>1952</td>\n",
       "      <td>1376</td>\n",
       "      <td>NaN</td>\n",
       "    </tr>\n",
       "    <tr>\n",
       "      <th>b1b35ff97723d9b7ade1c9c3cf48f770</th>\n",
       "      <td>453</td>\n",
       "      <td>False</td>\n",
       "      <td>2001</td>\n",
       "      <td>1548</td>\n",
       "      <td>NaN</td>\n",
       "    </tr>\n",
       "  </tbody>\n",
       "</table>\n",
       "</div>"
      ],
      "text/plain": [
       "                                  game_time  radiant_win  duration  \\\n",
       "match_id_hash                                                        \n",
       "a400b8f29dece5f4d266f49f1ae2e98a        155        False       992   \n",
       "b9c57c450ce74a2af79c9ce96fac144d        658         True      1154   \n",
       "6db558535151ea18ca70a6892197db41         21         True      1503   \n",
       "46a0ddce8f7ed2a8d9bd5edcbb925682        576         True      1952   \n",
       "b1b35ff97723d9b7ade1c9c3cf48f770        453        False      2001   \n",
       "\n",
       "                                  time_remaining next_roshan_team  \n",
       "match_id_hash                                                      \n",
       "a400b8f29dece5f4d266f49f1ae2e98a             837              NaN  \n",
       "b9c57c450ce74a2af79c9ce96fac144d             496              NaN  \n",
       "6db558535151ea18ca70a6892197db41            1482          Radiant  \n",
       "46a0ddce8f7ed2a8d9bd5edcbb925682            1376              NaN  \n",
       "b1b35ff97723d9b7ade1c9c3cf48f770            1548              NaN  "
      ]
     },
     "execution_count": 6,
     "metadata": {},
     "output_type": "execute_result"
    }
   ],
   "source": [
    "df_train_targets.head()"
   ]
  },
  {
   "cell_type": "code",
   "execution_count": 7,
   "metadata": {},
   "outputs": [],
   "source": [
    "X = df_train_features.values\n",
    "y = df_train_targets['radiant_win'].values"
   ]
  },
  {
   "cell_type": "code",
   "execution_count": 8,
   "metadata": {},
   "outputs": [],
   "source": [
    "from sklearn.model_selection import train_test_split\n",
    "\n",
    "X_train, X_valid, y_train, y_valid = train_test_split(X, y, \n",
    "                                                      test_size=0.3, \n",
    "                                                      random_state=17)"
   ]
  },
  {
   "cell_type": "code",
   "execution_count": 9,
   "metadata": {},
   "outputs": [
    {
     "name": "stdout",
     "output_type": "stream",
     "text": [
      "CPU times: total: 16.6 s\n",
      "Wall time: 4.96 s\n"
     ]
    },
    {
     "data": {
      "text/html": [
       "<style>#sk-container-id-1 {\n",
       "  /* Definition of color scheme common for light and dark mode */\n",
       "  --sklearn-color-text: black;\n",
       "  --sklearn-color-line: gray;\n",
       "  /* Definition of color scheme for unfitted estimators */\n",
       "  --sklearn-color-unfitted-level-0: #fff5e6;\n",
       "  --sklearn-color-unfitted-level-1: #f6e4d2;\n",
       "  --sklearn-color-unfitted-level-2: #ffe0b3;\n",
       "  --sklearn-color-unfitted-level-3: chocolate;\n",
       "  /* Definition of color scheme for fitted estimators */\n",
       "  --sklearn-color-fitted-level-0: #f0f8ff;\n",
       "  --sklearn-color-fitted-level-1: #d4ebff;\n",
       "  --sklearn-color-fitted-level-2: #b3dbfd;\n",
       "  --sklearn-color-fitted-level-3: cornflowerblue;\n",
       "\n",
       "  /* Specific color for light theme */\n",
       "  --sklearn-color-text-on-default-background: var(--sg-text-color, var(--theme-code-foreground, var(--jp-content-font-color1, black)));\n",
       "  --sklearn-color-background: var(--sg-background-color, var(--theme-background, var(--jp-layout-color0, white)));\n",
       "  --sklearn-color-border-box: var(--sg-text-color, var(--theme-code-foreground, var(--jp-content-font-color1, black)));\n",
       "  --sklearn-color-icon: #696969;\n",
       "\n",
       "  @media (prefers-color-scheme: dark) {\n",
       "    /* Redefinition of color scheme for dark theme */\n",
       "    --sklearn-color-text-on-default-background: var(--sg-text-color, var(--theme-code-foreground, var(--jp-content-font-color1, white)));\n",
       "    --sklearn-color-background: var(--sg-background-color, var(--theme-background, var(--jp-layout-color0, #111)));\n",
       "    --sklearn-color-border-box: var(--sg-text-color, var(--theme-code-foreground, var(--jp-content-font-color1, white)));\n",
       "    --sklearn-color-icon: #878787;\n",
       "  }\n",
       "}\n",
       "\n",
       "#sk-container-id-1 {\n",
       "  color: var(--sklearn-color-text);\n",
       "}\n",
       "\n",
       "#sk-container-id-1 pre {\n",
       "  padding: 0;\n",
       "}\n",
       "\n",
       "#sk-container-id-1 input.sk-hidden--visually {\n",
       "  border: 0;\n",
       "  clip: rect(1px 1px 1px 1px);\n",
       "  clip: rect(1px, 1px, 1px, 1px);\n",
       "  height: 1px;\n",
       "  margin: -1px;\n",
       "  overflow: hidden;\n",
       "  padding: 0;\n",
       "  position: absolute;\n",
       "  width: 1px;\n",
       "}\n",
       "\n",
       "#sk-container-id-1 div.sk-dashed-wrapped {\n",
       "  border: 1px dashed var(--sklearn-color-line);\n",
       "  margin: 0 0.4em 0.5em 0.4em;\n",
       "  box-sizing: border-box;\n",
       "  padding-bottom: 0.4em;\n",
       "  background-color: var(--sklearn-color-background);\n",
       "}\n",
       "\n",
       "#sk-container-id-1 div.sk-container {\n",
       "  /* jupyter's `normalize.less` sets `[hidden] { display: none; }`\n",
       "     but bootstrap.min.css set `[hidden] { display: none !important; }`\n",
       "     so we also need the `!important` here to be able to override the\n",
       "     default hidden behavior on the sphinx rendered scikit-learn.org.\n",
       "     See: https://github.com/scikit-learn/scikit-learn/issues/21755 */\n",
       "  display: inline-block !important;\n",
       "  position: relative;\n",
       "}\n",
       "\n",
       "#sk-container-id-1 div.sk-text-repr-fallback {\n",
       "  display: none;\n",
       "}\n",
       "\n",
       "div.sk-parallel-item,\n",
       "div.sk-serial,\n",
       "div.sk-item {\n",
       "  /* draw centered vertical line to link estimators */\n",
       "  background-image: linear-gradient(var(--sklearn-color-text-on-default-background), var(--sklearn-color-text-on-default-background));\n",
       "  background-size: 2px 100%;\n",
       "  background-repeat: no-repeat;\n",
       "  background-position: center center;\n",
       "}\n",
       "\n",
       "/* Parallel-specific style estimator block */\n",
       "\n",
       "#sk-container-id-1 div.sk-parallel-item::after {\n",
       "  content: \"\";\n",
       "  width: 100%;\n",
       "  border-bottom: 2px solid var(--sklearn-color-text-on-default-background);\n",
       "  flex-grow: 1;\n",
       "}\n",
       "\n",
       "#sk-container-id-1 div.sk-parallel {\n",
       "  display: flex;\n",
       "  align-items: stretch;\n",
       "  justify-content: center;\n",
       "  background-color: var(--sklearn-color-background);\n",
       "  position: relative;\n",
       "}\n",
       "\n",
       "#sk-container-id-1 div.sk-parallel-item {\n",
       "  display: flex;\n",
       "  flex-direction: column;\n",
       "}\n",
       "\n",
       "#sk-container-id-1 div.sk-parallel-item:first-child::after {\n",
       "  align-self: flex-end;\n",
       "  width: 50%;\n",
       "}\n",
       "\n",
       "#sk-container-id-1 div.sk-parallel-item:last-child::after {\n",
       "  align-self: flex-start;\n",
       "  width: 50%;\n",
       "}\n",
       "\n",
       "#sk-container-id-1 div.sk-parallel-item:only-child::after {\n",
       "  width: 0;\n",
       "}\n",
       "\n",
       "/* Serial-specific style estimator block */\n",
       "\n",
       "#sk-container-id-1 div.sk-serial {\n",
       "  display: flex;\n",
       "  flex-direction: column;\n",
       "  align-items: center;\n",
       "  background-color: var(--sklearn-color-background);\n",
       "  padding-right: 1em;\n",
       "  padding-left: 1em;\n",
       "}\n",
       "\n",
       "\n",
       "/* Toggleable style: style used for estimator/Pipeline/ColumnTransformer box that is\n",
       "clickable and can be expanded/collapsed.\n",
       "- Pipeline and ColumnTransformer use this feature and define the default style\n",
       "- Estimators will overwrite some part of the style using the `sk-estimator` class\n",
       "*/\n",
       "\n",
       "/* Pipeline and ColumnTransformer style (default) */\n",
       "\n",
       "#sk-container-id-1 div.sk-toggleable {\n",
       "  /* Default theme specific background. It is overwritten whether we have a\n",
       "  specific estimator or a Pipeline/ColumnTransformer */\n",
       "  background-color: var(--sklearn-color-background);\n",
       "}\n",
       "\n",
       "/* Toggleable label */\n",
       "#sk-container-id-1 label.sk-toggleable__label {\n",
       "  cursor: pointer;\n",
       "  display: block;\n",
       "  width: 100%;\n",
       "  margin-bottom: 0;\n",
       "  padding: 0.5em;\n",
       "  box-sizing: border-box;\n",
       "  text-align: center;\n",
       "}\n",
       "\n",
       "#sk-container-id-1 label.sk-toggleable__label-arrow:before {\n",
       "  /* Arrow on the left of the label */\n",
       "  content: \"▸\";\n",
       "  float: left;\n",
       "  margin-right: 0.25em;\n",
       "  color: var(--sklearn-color-icon);\n",
       "}\n",
       "\n",
       "#sk-container-id-1 label.sk-toggleable__label-arrow:hover:before {\n",
       "  color: var(--sklearn-color-text);\n",
       "}\n",
       "\n",
       "/* Toggleable content - dropdown */\n",
       "\n",
       "#sk-container-id-1 div.sk-toggleable__content {\n",
       "  max-height: 0;\n",
       "  max-width: 0;\n",
       "  overflow: hidden;\n",
       "  text-align: left;\n",
       "  /* unfitted */\n",
       "  background-color: var(--sklearn-color-unfitted-level-0);\n",
       "}\n",
       "\n",
       "#sk-container-id-1 div.sk-toggleable__content.fitted {\n",
       "  /* fitted */\n",
       "  background-color: var(--sklearn-color-fitted-level-0);\n",
       "}\n",
       "\n",
       "#sk-container-id-1 div.sk-toggleable__content pre {\n",
       "  margin: 0.2em;\n",
       "  border-radius: 0.25em;\n",
       "  color: var(--sklearn-color-text);\n",
       "  /* unfitted */\n",
       "  background-color: var(--sklearn-color-unfitted-level-0);\n",
       "}\n",
       "\n",
       "#sk-container-id-1 div.sk-toggleable__content.fitted pre {\n",
       "  /* unfitted */\n",
       "  background-color: var(--sklearn-color-fitted-level-0);\n",
       "}\n",
       "\n",
       "#sk-container-id-1 input.sk-toggleable__control:checked~div.sk-toggleable__content {\n",
       "  /* Expand drop-down */\n",
       "  max-height: 200px;\n",
       "  max-width: 100%;\n",
       "  overflow: auto;\n",
       "}\n",
       "\n",
       "#sk-container-id-1 input.sk-toggleable__control:checked~label.sk-toggleable__label-arrow:before {\n",
       "  content: \"▾\";\n",
       "}\n",
       "\n",
       "/* Pipeline/ColumnTransformer-specific style */\n",
       "\n",
       "#sk-container-id-1 div.sk-label input.sk-toggleable__control:checked~label.sk-toggleable__label {\n",
       "  color: var(--sklearn-color-text);\n",
       "  background-color: var(--sklearn-color-unfitted-level-2);\n",
       "}\n",
       "\n",
       "#sk-container-id-1 div.sk-label.fitted input.sk-toggleable__control:checked~label.sk-toggleable__label {\n",
       "  background-color: var(--sklearn-color-fitted-level-2);\n",
       "}\n",
       "\n",
       "/* Estimator-specific style */\n",
       "\n",
       "/* Colorize estimator box */\n",
       "#sk-container-id-1 div.sk-estimator input.sk-toggleable__control:checked~label.sk-toggleable__label {\n",
       "  /* unfitted */\n",
       "  background-color: var(--sklearn-color-unfitted-level-2);\n",
       "}\n",
       "\n",
       "#sk-container-id-1 div.sk-estimator.fitted input.sk-toggleable__control:checked~label.sk-toggleable__label {\n",
       "  /* fitted */\n",
       "  background-color: var(--sklearn-color-fitted-level-2);\n",
       "}\n",
       "\n",
       "#sk-container-id-1 div.sk-label label.sk-toggleable__label,\n",
       "#sk-container-id-1 div.sk-label label {\n",
       "  /* The background is the default theme color */\n",
       "  color: var(--sklearn-color-text-on-default-background);\n",
       "}\n",
       "\n",
       "/* On hover, darken the color of the background */\n",
       "#sk-container-id-1 div.sk-label:hover label.sk-toggleable__label {\n",
       "  color: var(--sklearn-color-text);\n",
       "  background-color: var(--sklearn-color-unfitted-level-2);\n",
       "}\n",
       "\n",
       "/* Label box, darken color on hover, fitted */\n",
       "#sk-container-id-1 div.sk-label.fitted:hover label.sk-toggleable__label.fitted {\n",
       "  color: var(--sklearn-color-text);\n",
       "  background-color: var(--sklearn-color-fitted-level-2);\n",
       "}\n",
       "\n",
       "/* Estimator label */\n",
       "\n",
       "#sk-container-id-1 div.sk-label label {\n",
       "  font-family: monospace;\n",
       "  font-weight: bold;\n",
       "  display: inline-block;\n",
       "  line-height: 1.2em;\n",
       "}\n",
       "\n",
       "#sk-container-id-1 div.sk-label-container {\n",
       "  text-align: center;\n",
       "}\n",
       "\n",
       "/* Estimator-specific */\n",
       "#sk-container-id-1 div.sk-estimator {\n",
       "  font-family: monospace;\n",
       "  border: 1px dotted var(--sklearn-color-border-box);\n",
       "  border-radius: 0.25em;\n",
       "  box-sizing: border-box;\n",
       "  margin-bottom: 0.5em;\n",
       "  /* unfitted */\n",
       "  background-color: var(--sklearn-color-unfitted-level-0);\n",
       "}\n",
       "\n",
       "#sk-container-id-1 div.sk-estimator.fitted {\n",
       "  /* fitted */\n",
       "  background-color: var(--sklearn-color-fitted-level-0);\n",
       "}\n",
       "\n",
       "/* on hover */\n",
       "#sk-container-id-1 div.sk-estimator:hover {\n",
       "  /* unfitted */\n",
       "  background-color: var(--sklearn-color-unfitted-level-2);\n",
       "}\n",
       "\n",
       "#sk-container-id-1 div.sk-estimator.fitted:hover {\n",
       "  /* fitted */\n",
       "  background-color: var(--sklearn-color-fitted-level-2);\n",
       "}\n",
       "\n",
       "/* Specification for estimator info (e.g. \"i\" and \"?\") */\n",
       "\n",
       "/* Common style for \"i\" and \"?\" */\n",
       "\n",
       ".sk-estimator-doc-link,\n",
       "a:link.sk-estimator-doc-link,\n",
       "a:visited.sk-estimator-doc-link {\n",
       "  float: right;\n",
       "  font-size: smaller;\n",
       "  line-height: 1em;\n",
       "  font-family: monospace;\n",
       "  background-color: var(--sklearn-color-background);\n",
       "  border-radius: 1em;\n",
       "  height: 1em;\n",
       "  width: 1em;\n",
       "  text-decoration: none !important;\n",
       "  margin-left: 1ex;\n",
       "  /* unfitted */\n",
       "  border: var(--sklearn-color-unfitted-level-1) 1pt solid;\n",
       "  color: var(--sklearn-color-unfitted-level-1);\n",
       "}\n",
       "\n",
       ".sk-estimator-doc-link.fitted,\n",
       "a:link.sk-estimator-doc-link.fitted,\n",
       "a:visited.sk-estimator-doc-link.fitted {\n",
       "  /* fitted */\n",
       "  border: var(--sklearn-color-fitted-level-1) 1pt solid;\n",
       "  color: var(--sklearn-color-fitted-level-1);\n",
       "}\n",
       "\n",
       "/* On hover */\n",
       "div.sk-estimator:hover .sk-estimator-doc-link:hover,\n",
       ".sk-estimator-doc-link:hover,\n",
       "div.sk-label-container:hover .sk-estimator-doc-link:hover,\n",
       ".sk-estimator-doc-link:hover {\n",
       "  /* unfitted */\n",
       "  background-color: var(--sklearn-color-unfitted-level-3);\n",
       "  color: var(--sklearn-color-background);\n",
       "  text-decoration: none;\n",
       "}\n",
       "\n",
       "div.sk-estimator.fitted:hover .sk-estimator-doc-link.fitted:hover,\n",
       ".sk-estimator-doc-link.fitted:hover,\n",
       "div.sk-label-container:hover .sk-estimator-doc-link.fitted:hover,\n",
       ".sk-estimator-doc-link.fitted:hover {\n",
       "  /* fitted */\n",
       "  background-color: var(--sklearn-color-fitted-level-3);\n",
       "  color: var(--sklearn-color-background);\n",
       "  text-decoration: none;\n",
       "}\n",
       "\n",
       "/* Span, style for the box shown on hovering the info icon */\n",
       ".sk-estimator-doc-link span {\n",
       "  display: none;\n",
       "  z-index: 9999;\n",
       "  position: relative;\n",
       "  font-weight: normal;\n",
       "  right: .2ex;\n",
       "  padding: .5ex;\n",
       "  margin: .5ex;\n",
       "  width: min-content;\n",
       "  min-width: 20ex;\n",
       "  max-width: 50ex;\n",
       "  color: var(--sklearn-color-text);\n",
       "  box-shadow: 2pt 2pt 4pt #999;\n",
       "  /* unfitted */\n",
       "  background: var(--sklearn-color-unfitted-level-0);\n",
       "  border: .5pt solid var(--sklearn-color-unfitted-level-3);\n",
       "}\n",
       "\n",
       ".sk-estimator-doc-link.fitted span {\n",
       "  /* fitted */\n",
       "  background: var(--sklearn-color-fitted-level-0);\n",
       "  border: var(--sklearn-color-fitted-level-3);\n",
       "}\n",
       "\n",
       ".sk-estimator-doc-link:hover span {\n",
       "  display: block;\n",
       "}\n",
       "\n",
       "/* \"?\"-specific style due to the `<a>` HTML tag */\n",
       "\n",
       "#sk-container-id-1 a.estimator_doc_link {\n",
       "  float: right;\n",
       "  font-size: 1rem;\n",
       "  line-height: 1em;\n",
       "  font-family: monospace;\n",
       "  background-color: var(--sklearn-color-background);\n",
       "  border-radius: 1rem;\n",
       "  height: 1rem;\n",
       "  width: 1rem;\n",
       "  text-decoration: none;\n",
       "  /* unfitted */\n",
       "  color: var(--sklearn-color-unfitted-level-1);\n",
       "  border: var(--sklearn-color-unfitted-level-1) 1pt solid;\n",
       "}\n",
       "\n",
       "#sk-container-id-1 a.estimator_doc_link.fitted {\n",
       "  /* fitted */\n",
       "  border: var(--sklearn-color-fitted-level-1) 1pt solid;\n",
       "  color: var(--sklearn-color-fitted-level-1);\n",
       "}\n",
       "\n",
       "/* On hover */\n",
       "#sk-container-id-1 a.estimator_doc_link:hover {\n",
       "  /* unfitted */\n",
       "  background-color: var(--sklearn-color-unfitted-level-3);\n",
       "  color: var(--sklearn-color-background);\n",
       "  text-decoration: none;\n",
       "}\n",
       "\n",
       "#sk-container-id-1 a.estimator_doc_link.fitted:hover {\n",
       "  /* fitted */\n",
       "  background-color: var(--sklearn-color-fitted-level-3);\n",
       "}\n",
       "</style><div id=\"sk-container-id-1\" class=\"sk-top-container\"><div class=\"sk-text-repr-fallback\"><pre>RandomForestClassifier(n_jobs=4, random_state=17)</pre><b>In a Jupyter environment, please rerun this cell to show the HTML representation or trust the notebook. <br />On GitHub, the HTML representation is unable to render, please try loading this page with nbviewer.org.</b></div><div class=\"sk-container\" hidden><div class=\"sk-item\"><div class=\"sk-estimator fitted sk-toggleable\"><input class=\"sk-toggleable__control sk-hidden--visually\" id=\"sk-estimator-id-1\" type=\"checkbox\" checked><label for=\"sk-estimator-id-1\" class=\"sk-toggleable__label fitted sk-toggleable__label-arrow fitted\">&nbsp;&nbsp;RandomForestClassifier<a class=\"sk-estimator-doc-link fitted\" rel=\"noreferrer\" target=\"_blank\" href=\"https://scikit-learn.org/1.4/modules/generated/sklearn.ensemble.RandomForestClassifier.html\">?<span>Documentation for RandomForestClassifier</span></a><span class=\"sk-estimator-doc-link fitted\">i<span>Fitted</span></span></label><div class=\"sk-toggleable__content fitted\"><pre>RandomForestClassifier(n_jobs=4, random_state=17)</pre></div> </div></div></div></div>"
      ],
      "text/plain": [
       "RandomForestClassifier(n_jobs=4, random_state=17)"
      ]
     },
     "execution_count": 9,
     "metadata": {},
     "output_type": "execute_result"
    }
   ],
   "source": [
    "%%time\n",
    "from sklearn.ensemble import RandomForestClassifier\n",
    "model = RandomForestClassifier(n_estimators=100, n_jobs=4, random_state=17)\n",
    "model.fit(X_train, y_train)"
   ]
  },
  {
   "cell_type": "code",
   "execution_count": 10,
   "metadata": {},
   "outputs": [],
   "source": [
    "y_pred = model.predict_proba(X_valid)[:, 1]"
   ]
  },
  {
   "cell_type": "code",
   "execution_count": 11,
   "metadata": {},
   "outputs": [
    {
     "data": {
      "text/plain": [
       "array([0.14, 0.44, 0.5 , ..., 0.58, 0.72, 0.51])"
      ]
     },
     "execution_count": 11,
     "metadata": {},
     "output_type": "execute_result"
    }
   ],
   "source": [
    "y_pred"
   ]
  },
  {
   "cell_type": "code",
   "execution_count": 12,
   "metadata": {},
   "outputs": [
    {
     "name": "stdout",
     "output_type": "stream",
     "text": [
      "Validation ROC-AUC score: 0.7772318342722802\n"
     ]
    }
   ],
   "source": [
    "from sklearn.metrics import roc_auc_score\n",
    "\n",
    "valid_score = roc_auc_score(y_valid, y_pred)\n",
    "print('Validation ROC-AUC score:', valid_score)"
   ]
  },
  {
   "cell_type": "code",
   "execution_count": 13,
   "metadata": {},
   "outputs": [
    {
     "name": "stdout",
     "output_type": "stream",
     "text": [
      "Validation accuracy of P>0.5 classifier: 0.6974712257414097\n"
     ]
    }
   ],
   "source": [
    "from sklearn.metrics import accuracy_score\n",
    "\n",
    "valid_accuracy = accuracy_score(y_valid, y_pred > 0.5)\n",
    "print('Validation accuracy of P>0.5 classifier:', valid_accuracy)"
   ]
  },
  {
   "cell_type": "code",
   "execution_count": 14,
   "metadata": {},
   "outputs": [],
   "source": [
    "df_test_features = pd.read_csv(os.path.join(PATH_TO_DATA, 'test_features.csv'), \n",
    "                                   index_col='match_id_hash')\n",
    "\n",
    "X_test = df_test_features.values\n",
    "y_test_pred = model.predict_proba(X_test)[:, 1]\n",
    "\n",
    "df_submission = pd.DataFrame({'radiant_win_prob': y_test_pred}, \n",
    "                                 index=df_test_features.index)"
   ]
  },
  {
   "cell_type": "code",
   "execution_count": 15,
   "metadata": {},
   "outputs": [
    {
     "data": {
      "text/html": [
       "<div>\n",
       "<style scoped>\n",
       "    .dataframe tbody tr th:only-of-type {\n",
       "        vertical-align: middle;\n",
       "    }\n",
       "\n",
       "    .dataframe tbody tr th {\n",
       "        vertical-align: top;\n",
       "    }\n",
       "\n",
       "    .dataframe thead th {\n",
       "        text-align: right;\n",
       "    }\n",
       "</style>\n",
       "<table border=\"1\" class=\"dataframe\">\n",
       "  <thead>\n",
       "    <tr style=\"text-align: right;\">\n",
       "      <th></th>\n",
       "      <th>radiant_win_prob</th>\n",
       "    </tr>\n",
       "    <tr>\n",
       "      <th>match_id_hash</th>\n",
       "      <th></th>\n",
       "    </tr>\n",
       "  </thead>\n",
       "  <tbody>\n",
       "    <tr>\n",
       "      <th>30cc2d778dca82f2edb568ce9b585caa</th>\n",
       "      <td>0.49</td>\n",
       "    </tr>\n",
       "    <tr>\n",
       "      <th>70e5ba30f367cea48793b9003fab9d38</th>\n",
       "      <td>0.81</td>\n",
       "    </tr>\n",
       "    <tr>\n",
       "      <th>4d9ef74d3a2025d79e9423105fd73d41</th>\n",
       "      <td>0.67</td>\n",
       "    </tr>\n",
       "    <tr>\n",
       "      <th>2bb79e0c1eaac1608e5a09c8e0c6a555</th>\n",
       "      <td>0.69</td>\n",
       "    </tr>\n",
       "    <tr>\n",
       "      <th>bec17f099b01d67edc82dfb5ce735a43</th>\n",
       "      <td>0.41</td>\n",
       "    </tr>\n",
       "  </tbody>\n",
       "</table>\n",
       "</div>"
      ],
      "text/plain": [
       "                                  radiant_win_prob\n",
       "match_id_hash                                     \n",
       "30cc2d778dca82f2edb568ce9b585caa              0.49\n",
       "70e5ba30f367cea48793b9003fab9d38              0.81\n",
       "4d9ef74d3a2025d79e9423105fd73d41              0.67\n",
       "2bb79e0c1eaac1608e5a09c8e0c6a555              0.69\n",
       "bec17f099b01d67edc82dfb5ce735a43              0.41"
      ]
     },
     "execution_count": 15,
     "metadata": {},
     "output_type": "execute_result"
    }
   ],
   "source": [
    "df_submission.head()"
   ]
  },
  {
   "cell_type": "code",
   "execution_count": 16,
   "metadata": {},
   "outputs": [
    {
     "name": "stdout",
     "output_type": "stream",
     "text": [
      "Submission saved to submission_2024-04-29_12-30-07.csv\n"
     ]
    }
   ],
   "source": [
    "import datetime\n",
    "submission_filename = 'submission_{}.csv'.format(\n",
    "    datetime.datetime.now().strftime('%Y-%m-%d_%H-%M-%S'))\n",
    "df_submission.to_csv(submission_filename)\n",
    "print('Submission saved to {}'.format(submission_filename))"
   ]
  },
  {
   "cell_type": "code",
   "execution_count": 17,
   "metadata": {},
   "outputs": [],
   "source": [
    "from sklearn.model_selection import ShuffleSplit, KFold\n",
    "cv = ShuffleSplit(n_splits=5, test_size=0.3, random_state=17)\n",
    "from sklearn.model_selection import cross_val_score"
   ]
  },
  {
   "cell_type": "code",
   "execution_count": 18,
   "metadata": {},
   "outputs": [
    {
     "name": "stdout",
     "output_type": "stream",
     "text": [
      "CPU times: total: 1min 20s\n",
      "Wall time: 23.4 s\n"
     ]
    }
   ],
   "source": [
    "%%time\n",
    "\n",
    "model_rf1 = RandomForestClassifier(n_estimators=100, n_jobs=4,\n",
    "                                   max_depth=None, random_state=17)\n",
    "\n",
    "# calcuate ROC-AUC for each split\n",
    "cv_scores_rf1 = cross_val_score(model_rf1, X, y, cv=cv, scoring='roc_auc')"
   ]
  },
  {
   "cell_type": "code",
   "execution_count": 19,
   "metadata": {},
   "outputs": [
    {
     "name": "stdout",
     "output_type": "stream",
     "text": [
      "CPU times: total: 297 ms\n",
      "Wall time: 12.6 s\n"
     ]
    }
   ],
   "source": [
    "%%time\n",
    "\n",
    "model_rf2 = RandomForestClassifier(n_estimators=100, n_jobs=4,\n",
    "                                   min_samples_leaf=3, random_state=17)\n",
    "\n",
    "cv_scores_rf2 = cross_val_score(model_rf2, X, y, cv=cv, \n",
    "                                scoring='roc_auc', n_jobs=-1)"
   ]
  },
  {
   "cell_type": "code",
   "execution_count": 20,
   "metadata": {},
   "outputs": [
    {
     "data": {
      "text/plain": [
       "array([0.77723183, 0.78656801, 0.78004904, 0.77732062, 0.77669984])"
      ]
     },
     "execution_count": 20,
     "metadata": {},
     "output_type": "execute_result"
    }
   ],
   "source": [
    "cv_scores_rf1"
   ]
  },
  {
   "cell_type": "code",
   "execution_count": 21,
   "metadata": {},
   "outputs": [
    {
     "data": {
      "text/plain": [
       "array([0.78326349, 0.78474775, 0.7834313 , 0.77761297, 0.78531672])"
      ]
     },
     "execution_count": 21,
     "metadata": {},
     "output_type": "execute_result"
    }
   ],
   "source": [
    "cv_scores_rf2"
   ]
  },
  {
   "cell_type": "code",
   "execution_count": 22,
   "metadata": {},
   "outputs": [
    {
     "name": "stdout",
     "output_type": "stream",
     "text": [
      "Model 1 mean score: 0.7795738699757455\n",
      "Model 2 mean score: 0.78287444565472\n"
     ]
    }
   ],
   "source": [
    "print('Model 1 mean score:', cv_scores_rf1.mean())\n",
    "print('Model 2 mean score:', cv_scores_rf2.mean())"
   ]
  },
  {
   "cell_type": "code",
   "execution_count": 23,
   "metadata": {},
   "outputs": [
    {
     "data": {
      "text/plain": [
       "array([ True, False,  True,  True,  True])"
      ]
     },
     "execution_count": 23,
     "metadata": {},
     "output_type": "execute_result"
    }
   ],
   "source": [
    "cv_scores_rf2 > cv_scores_rf1"
   ]
  },
  {
   "cell_type": "code",
   "execution_count": 24,
   "metadata": {},
   "outputs": [],
   "source": [
    "import json\n",
    "\n",
    "with open(os.path.join(PATH_TO_DATA, 'train_matches.jsonl')) as fin:\n",
    "    # read the 18-th line\n",
    "    for i in range(18):\n",
    "        line = fin.readline()\n",
    "    \n",
    "    # read JSON into a Python object \n",
    "    match = json.loads(line)"
   ]
  },
  {
   "cell_type": "code",
   "execution_count": 25,
   "metadata": {},
   "outputs": [
    {
     "name": "stdout",
     "output_type": "stream",
     "text": [
      "{'player_slot': 2, 'hero_id': 23, 'hero_name': 'npc_dota_hero_kunkka', 'account_id_hash': '1c2500195e6ab646fc9371344724aa77', 'ability_upgrades': [{'ability': 5032, 'time': 227, 'level': 1}, {'ability': 5031, 'time': 288, 'level': 2}, {'ability': 5032, 'time': 339, 'level': 3}, {'ability': 5031, 'time': 413, 'level': 4}, {'ability': 5032, 'time': 465, 'level': 5}, {'ability': 5035, 'time': 548, 'level': 6}, {'ability': 5032, 'time': 606, 'level': 7}, {'ability': 5031, 'time': 778, 'level': 8}, {'ability': 5033, 'time': 963, 'level': 9}, {'ability': 5933, 'time': 1123, 'level': 10}, {'ability': 5031, 'time': 1306, 'level': 11}, {'ability': 5035, 'time': 1388, 'level': 12}, {'ability': 5033, 'time': 1494, 'level': 13}, {'ability': 5033, 'time': 1719, 'level': 14}, {'ability': 6385, 'time': 1925, 'level': 15}, {'ability': 5033, 'time': 1929, 'level': 16}], 'obs_placed': 0, 'sen_placed': 0, 'creeps_stacked': 0, 'camps_stacked': 0, 'rune_pickups': 4, 'firstblood_claimed': 0, 'teamfight_participation': 0.463, 'towers_killed': 1, 'roshans_killed': 0, 'observers_placed': 0, 'stuns': 69.365, 'max_hero_hit': {'type': 'max_hero_hit', 'time': 2246.823, 'max': True, 'inflictor': 'kunkka_ghostship', 'unit': 'npc_dota_hero_kunkka', 'key': 'npc_dota_hero_sven', 'value': 516, 'slot': 2, 'player_slot': 2}, 'times': [0, 60, 120, 180, 240, 300, 360, 420, 480, 540, 600, 660, 720, 780, 840, 900, 960, 1020, 1080, 1140, 1200, 1260, 1320, 1380, 1440, 1500, 1560, 1620, 1680, 1740, 1800, 1860, 1920, 1980, 2040, 2100, 2160, 2220, 2280, 2340], 'gold_t': [0, 444, 852, 983, 1358, 1756, 2065, 2543, 2817, 3086, 3545, 3728, 3897, 4404, 4750, 4854, 4988, 5382, 5474, 6021, 6383, 6637, 7358, 7764, 7855, 8148, 8239, 8331, 8621, 9604, 10487, 10578, 10669, 10760, 10851, 10942, 11032, 11328, 12334, 13766], 'lh_t': [0, 2, 5, 6, 12, 19, 23, 32, 32, 36, 42, 45, 47, 48, 53, 53, 54, 55, 55, 57, 61, 62, 64, 73, 73, 76, 76, 76, 76, 76, 81, 81, 81, 81, 81, 81, 81, 85, 91, 93], 'dn_t': [0, 0, 0, 0, 0, 1, 2, 2, 2, 2, 2, 2, 2, 2, 2, 2, 2, 2, 2, 2, 2, 2, 2, 2, 2, 2, 2, 2, 2, 2, 2, 2, 2, 2, 2, 2, 2, 2, 2, 3], 'xp_t': [0, 181, 629, 1040, 1532, 2237, 2579, 3128, 3258, 3498, 4004, 4126, 4269, 4720, 4913, 5196, 5342, 5849, 5849, 6609, 7087, 7315, 8378, 8623, 8639, 9224, 9224, 9347, 9347, 12395, 12541, 12541, 12541, 12541, 12541, 12569, 12631, 12787, 14380, 15853], 'obs_log': [], 'sen_log': [], 'obs_left_log': [], 'sen_left_log': [], 'purchase_log': [{'time': -89.953, 'key': 'tpscroll'}, {'time': -67.748, 'key': 'stout_shield'}, {'time': -50.177, 'key': 'branches'}, {'time': -39.375, 'key': 'quelling_blade'}, {'time': -30.273, 'key': 'ring_of_protection'}, {'time': -10.736, 'key': 'gauntlets'}, {'time': -8.135, 'key': 'branches'}, {'time': 229.995, 'key': 'boots'}, {'time': 230.128, 'key': 'blades_of_attack'}, {'time': 230.195, 'key': 'phase_boots'}, {'time': 230.195, 'key': 'blades_of_attack'}, {'time': 393.055, 'key': 'sobi_mask'}, {'time': 393.222, 'key': 'circlet'}, {'time': 397.754, 'key': 'wind_lace'}, {'time': 430.412, 'key': 'bracer'}, {'time': 514.425, 'key': 'ancient_janggo'}, {'time': 518.458, 'key': 'tpscroll'}, {'time': 818.751, 'key': 'helm_of_iron_will'}, {'time': 820.017, 'key': 'gloves'}, {'time': 898.998, 'key': 'blades_of_attack'}, {'time': 927.524, 'key': 'tpscroll'}, {'time': 1066.124, 'key': 'tpscroll'}, {'time': 1111.346, 'key': 'armlet'}, {'time': 1146.171, 'key': 'tpscroll'}, {'time': 1557.671, 'key': 'tpscroll'}, {'time': 1701.202, 'key': 'shadow_amulet'}, {'time': 1701.369, 'key': 'invis_sword'}, {'time': 1701.369, 'key': 'claymore'}, {'time': 1787.914, 'key': 'tpscroll'}, {'time': 1796.046, 'key': 'tpscroll'}], 'kills_log': [{'time': 68.401, 'key': 'npc_dota_hero_slark'}, {'time': 473.369, 'key': 'npc_dota_hero_skeleton_king'}, {'time': 742.836, 'key': 'npc_dota_hero_sven'}, {'time': 751.801, 'key': 'npc_dota_hero_skeleton_king'}, {'time': 960.683, 'key': 'npc_dota_hero_sven'}, {'time': 1083.72, 'key': 'npc_dota_hero_chaos_knight'}, {'time': 1273.14, 'key': 'npc_dota_hero_slark'}, {'time': 1479.023, 'key': 'npc_dota_hero_skeleton_king'}, {'time': 1694.504, 'key': 'npc_dota_hero_sven'}, {'time': 2255.218, 'key': 'npc_dota_hero_sven'}], 'buyback_log': [], 'runes_log': [{'time': 256.688, 'key': 0}, {'time': 394.255, 'key': 3}, {'time': 776.561, 'key': 5}, {'time': 847.344, 'key': 2}], 'obs': {}, 'sen': {}, 'actions': {'1': 6472, '2': 12, '4': 1328, '5': 86, '6': 20, '7': 3, '8': 85, '9': 48, '10': 12, '11': 15, '13': 1, '15': 19, '16': 27, '17': 3, '19': 14, '20': 4, '24': 1, '27': 5, '33': 10}, 'pings': {'0': 26}, 'purchase': {'tpscroll': 8, 'stout_shield': 1, 'branches': 2, 'quelling_blade': 1, 'ring_of_protection': 1, 'gauntlets': 1, 'boots': 1, 'blades_of_attack': 3, 'phase_boots': 1, 'sobi_mask': 1, 'circlet': 1, 'recipe_bracer': 1, 'wind_lace': 1, 'bracer': 1, 'recipe_ancient_janggo': 1, 'ancient_janggo': 1, 'helm_of_iron_will': 1, 'gloves': 1, 'recipe_armlet': 1, 'armlet': 1, 'shadow_amulet': 1, 'invis_sword': 1, 'claymore': 1}, 'gold_reasons': {'0': 791, '1': -2595, '5': 637, '6': 425, '11': 1527, '12': 3999, '13': 3854}, 'xp_reasons': {'0': 1, '1': 8275, '2': 7578}, 'killed': {'npc_dota_creep_badguys_melee': 12096, 'npc_dota_hero_slark': 425, 'npc_dota_creep_badguys_ranged': 1666, 'npc_dota_creep_goodguys_melee': 469, 'npc_dota_badguys_siege': 234, 'npc_dota_neutral_wildkin': 650, 'npc_dota_neutral_polar_furbolg_ursa_warrior': 359, 'npc_dota_neutral_enraged_wildkin': 221, 'npc_dota_hero_skeleton_king': 442, 'npc_dota_neutral_polar_furbolg_champion': 233, 'npc_dota_neutral_dark_troll': 237, 'npc_dota_neutral_dark_troll_warlord': 130, 'npc_dota_neutral_ogre_magi': 235, 'npc_dota_neutral_ogre_mauler': 364, 'npc_dota_neutral_centaur_outrunner': 233, 'npc_dota_neutral_centaur_khan': 192, 'npc_dota_hero_sven': 720, 'npc_dota_neutral_satyr_trickster': 1084, 'npc_dota_neutral_satyr_soulstealer': 673, 'npc_dota_hero_chaos_knight': 70, 'npc_dota_badguys_tower2_mid': 48, 'npc_dota_neutral_alpha_wolf': 327, 'npc_dota_neutral_giant_wolf': 327}, 'item_uses': {'tango_single': 2, 'phase_boots': 38, 'tpscroll': 7, 'ancient_janggo': 6, 'armlet': 44, 'invis_sword': 4}, 'ability_uses': {'kunkka_torrent': 43, 'kunkka_ghostship': 16, 'kunkka_x_marks_the_spot': 8, 'kunkka_return': 1}, 'hero_hits': {'kunkka_tidebringer': 23, 'null': 45, 'kunkka_torrent': 258, 'kunkka_ghostship': 176, 'armlet': 1179}, 'damage': {'npc_dota_creep_badguys_ranged': 6763, 'npc_dota_creep_badguys_melee': 30393, 'npc_dota_hero_chaos_knight': 4076, 'npc_dota_hero_slark': 6616, 'npc_dota_creep_goodguys_melee': 469, 'npc_dota_badguys_tower1_mid': 158, 'npc_dota_badguys_siege': 1122, 'npc_dota_neutral_polar_furbolg_ursa_warrior': 2411, 'npc_dota_neutral_wildkin': 890, 'npc_dota_neutral_enraged_wildkin': 666, 'npc_dota_neutral_polar_furbolg_champion': 1195, 'npc_dota_hero_kunkka': 8115, 'npc_dota_hero_rubick': 852, 'npc_dota_hero_skeleton_king': 4968, 'npc_dota_hero_sven': 5688, 'npc_dota_neutral_dark_troll_warlord': 1526, 'npc_dota_neutral_dark_troll': 2039, 'npc_dota_dark_troll_warlord_skeleton_warrior': 727, 'npc_dota_neutral_ogre_magi': 687, 'npc_dota_neutral_ogre_mauler': 1859, 'npc_dota_neutral_centaur_outrunner': 468, 'npc_dota_neutral_centaur_khan': 1253, 'npc_dota_hero_winter_wyvern': 2538, 'npc_dota_hero_juggernaut': 370, 'npc_dota_neutral_satyr_trickster': 2134, 'npc_dota_neutral_satyr_soulstealer': 2807, 'illusion_npc_dota_hero_chaos_knight': 1964, 'illusion_npc_dota_hero_sven': 518, 'npc_dota_hero_elder_titan': 514, 'npc_dota_hero_tidehunter': 370, 'npc_dota_badguys_tower2_mid': 302, 'npc_dota_creep_badguys_ranged_upgraded': 677, 'npc_dota_neutral_alpha_wolf': 327, 'npc_dota_neutral_giant_wolf': 327}, 'damage_taken': {'npc_dota_hero_chaos_knight': 2097, 'npc_dota_hero_slark': 7370, 'npc_dota_creep_badguys_melee': 352, 'npc_dota_creep_badguys_ranged': 201, 'npc_dota_badguys_tower1_mid': 280, 'npc_dota_badguys_siege': 14, 'npc_dota_neutral_polar_furbolg_ursa_warrior': 286, 'npc_dota_neutral_enraged_wildkin': 32, 'npc_dota_neutral_polar_furbolg_champion': 152, 'npc_dota_hero_sven': 4183, 'npc_dota_hero_winter_wyvern': 2685, 'npc_dota_hero_skeleton_king': 2962, 'npc_dota_hero_kunkka': 8115, 'npc_dota_neutral_dark_troll_warlord': 145, 'npc_dota_neutral_dark_troll': 48, 'npc_dota_dark_troll_warlord_skeleton_warrior': 57, 'npc_dota_neutral_ogre_mauler': 47, 'npc_dota_neutral_ogre_magi': 29, 'npc_dota_neutral_centaur_khan': 251, 'npc_dota_neutral_centaur_outrunner': 23, 'npc_dota_neutral_satyr_trickster': 15, 'npc_dota_neutral_satyr_soulstealer': 127, 'npc_dota_badguys_tower2_mid': 66, 'npc_dota_badguys_tower3_mid': 879, 'npc_dota_goodguys_siege': 9, 'npc_dota_creep_goodguys_melee': 157, 'npc_dota_neutral_small_thunder_lizard': 147, 'npc_dota_neutral_big_thunder_lizard': 201, 'npc_dota_creep_goodguys_ranged': 70, 'npc_dota_hero_elder_titan': 112, 'npc_dota_hero_rubick': 42, 'npc_dota_hero_tidehunter': 447}, 'damage_inflictor': {'kunkka_tidebringer': 4868, 'null': 5797, 'kunkka_torrent': 7468, 'kunkka_ghostship': 7859}, 'runes': {'0': 1, '2': 1, '3': 1, '5': 1}, 'killed_by': {'npc_dota_hero_slark': 3, 'npc_dota_badguys_tower3_mid': 1, 'npc_dota_hero_chaos_knight': 2, 'npc_dota_hero_skeleton_king': 3, 'npc_dota_hero_winter_wyvern': 1, 'npc_dota_hero_sven': 1}, 'kill_streaks': {}, 'multi_kills': {}, 'life_state': {'0': 3707, '1': 44, '2': 1025}, 'healing': {}, 'damage_inflictor_received': {'null': 12268, 'slark_pounce': 340, 'sven_storm_bolt': 772, 'skeleton_king_hellfire_blast': 1032, 'slark_dark_pact': 2036, 'winter_wyvern_splinter_blast': 346, 'winter_wyvern_arctic_burn': 929, 'orb_of_venom': 82, 'sven_great_cleave': 1318, 'chaos_knight_chaos_bolt': 775}, 'randomed': False, 'pred_vict': False, 'gold': 13857, 'lh': 93, 'xp': 15853, 'x': 74, 'y': 76, 'hero_inventory': [{'id': 'item_invis_sword', 'cooldown': 0}, {'id': 'item_ancient_janggo', 'cooldown': 0}, {'id': 'item_phase_boots', 'cooldown': 0}, {'id': 'item_armlet', 'cooldown': 0}, {'id': 'item_tpscroll', 'num_charges': 1, 'cooldown': 0}], 'hero_stash': [], 'health': 2000, 'max_health': 2000, 'max_mana': 686.938, 'level': 19, 'kills': 8, 'deaths': 11, 'assists': 12, 'denies': 3, 'nearby_creep_death_count': 243}\n"
     ]
    }
   ],
   "source": [
    "player = match['players'][2]\n",
    "print(player)"
   ]
  },
  {
   "cell_type": "code",
   "execution_count": 26,
   "metadata": {},
   "outputs": [
    {
     "data": {
      "text/plain": [
       "(8, 11, 12)"
      ]
     },
     "execution_count": 26,
     "metadata": {},
     "output_type": "execute_result"
    }
   ],
   "source": [
    "player['kills'], player['deaths'], player['assists']"
   ]
  },
  {
   "cell_type": "code",
   "execution_count": 27,
   "metadata": {},
   "outputs": [
    {
     "data": {
      "text/plain": [
       "{'kunkka_torrent': 43,\n",
       " 'kunkka_ghostship': 16,\n",
       " 'kunkka_x_marks_the_spot': 8,\n",
       " 'kunkka_return': 1}"
      ]
     },
     "execution_count": 27,
     "metadata": {},
     "output_type": "execute_result"
    }
   ],
   "source": [
    "player['ability_uses']"
   ]
  },
  {
   "cell_type": "code",
   "execution_count": 28,
   "metadata": {},
   "outputs": [
    {
     "name": "stdout",
     "output_type": "stream",
     "text": [
      "{'player_slot': 2, 'hero_id': 23, 'hero_name': 'npc_dota_hero_kunkka', 'account_id_hash': '1c2500195e6ab646fc9371344724aa77', 'ability_upgrades': [{'ability': 5032, 'time': 227, 'level': 1}, {'ability': 5031, 'time': 288, 'level': 2}, {'ability': 5032, 'time': 339, 'level': 3}, {'ability': 5031, 'time': 413, 'level': 4}, {'ability': 5032, 'time': 465, 'level': 5}, {'ability': 5035, 'time': 548, 'level': 6}, {'ability': 5032, 'time': 606, 'level': 7}, {'ability': 5031, 'time': 778, 'level': 8}, {'ability': 5033, 'time': 963, 'level': 9}, {'ability': 5933, 'time': 1123, 'level': 10}, {'ability': 5031, 'time': 1306, 'level': 11}, {'ability': 5035, 'time': 1388, 'level': 12}, {'ability': 5033, 'time': 1494, 'level': 13}, {'ability': 5033, 'time': 1719, 'level': 14}, {'ability': 6385, 'time': 1925, 'level': 15}, {'ability': 5033, 'time': 1929, 'level': 16}], 'obs_placed': 0, 'sen_placed': 0, 'creeps_stacked': 0, 'camps_stacked': 0, 'rune_pickups': 4, 'firstblood_claimed': 0, 'teamfight_participation': 0.463, 'towers_killed': 1, 'roshans_killed': 0, 'observers_placed': 0, 'stuns': 69.365, 'max_hero_hit': {'type': 'max_hero_hit', 'time': 2246.823, 'max': True, 'inflictor': 'kunkka_ghostship', 'unit': 'npc_dota_hero_kunkka', 'key': 'npc_dota_hero_sven', 'value': 516, 'slot': 2, 'player_slot': 2}, 'times': [0, 60, 120, 180, 240, 300, 360, 420, 480, 540, 600, 660, 720, 780, 840, 900, 960, 1020, 1080, 1140, 1200, 1260, 1320, 1380, 1440, 1500, 1560, 1620, 1680, 1740, 1800, 1860, 1920, 1980, 2040, 2100, 2160, 2220, 2280, 2340], 'gold_t': [0, 444, 852, 983, 1358, 1756, 2065, 2543, 2817, 3086, 3545, 3728, 3897, 4404, 4750, 4854, 4988, 5382, 5474, 6021, 6383, 6637, 7358, 7764, 7855, 8148, 8239, 8331, 8621, 9604, 10487, 10578, 10669, 10760, 10851, 10942, 11032, 11328, 12334, 13766], 'lh_t': [0, 2, 5, 6, 12, 19, 23, 32, 32, 36, 42, 45, 47, 48, 53, 53, 54, 55, 55, 57, 61, 62, 64, 73, 73, 76, 76, 76, 76, 76, 81, 81, 81, 81, 81, 81, 81, 85, 91, 93], 'dn_t': [0, 0, 0, 0, 0, 1, 2, 2, 2, 2, 2, 2, 2, 2, 2, 2, 2, 2, 2, 2, 2, 2, 2, 2, 2, 2, 2, 2, 2, 2, 2, 2, 2, 2, 2, 2, 2, 2, 2, 3], 'xp_t': [0, 181, 629, 1040, 1532, 2237, 2579, 3128, 3258, 3498, 4004, 4126, 4269, 4720, 4913, 5196, 5342, 5849, 5849, 6609, 7087, 7315, 8378, 8623, 8639, 9224, 9224, 9347, 9347, 12395, 12541, 12541, 12541, 12541, 12541, 12569, 12631, 12787, 14380, 15853], 'obs_log': [], 'sen_log': [], 'obs_left_log': [], 'sen_left_log': [], 'purchase_log': [{'time': -89.953, 'key': 'tpscroll'}, {'time': -67.748, 'key': 'stout_shield'}, {'time': -50.177, 'key': 'branches'}, {'time': -39.375, 'key': 'quelling_blade'}, {'time': -30.273, 'key': 'ring_of_protection'}, {'time': -10.736, 'key': 'gauntlets'}, {'time': -8.135, 'key': 'branches'}, {'time': 229.995, 'key': 'boots'}, {'time': 230.128, 'key': 'blades_of_attack'}, {'time': 230.195, 'key': 'phase_boots'}, {'time': 230.195, 'key': 'blades_of_attack'}, {'time': 393.055, 'key': 'sobi_mask'}, {'time': 393.222, 'key': 'circlet'}, {'time': 397.754, 'key': 'wind_lace'}, {'time': 430.412, 'key': 'bracer'}, {'time': 514.425, 'key': 'ancient_janggo'}, {'time': 518.458, 'key': 'tpscroll'}, {'time': 818.751, 'key': 'helm_of_iron_will'}, {'time': 820.017, 'key': 'gloves'}, {'time': 898.998, 'key': 'blades_of_attack'}, {'time': 927.524, 'key': 'tpscroll'}, {'time': 1066.124, 'key': 'tpscroll'}, {'time': 1111.346, 'key': 'armlet'}, {'time': 1146.171, 'key': 'tpscroll'}, {'time': 1557.671, 'key': 'tpscroll'}, {'time': 1701.202, 'key': 'shadow_amulet'}, {'time': 1701.369, 'key': 'invis_sword'}, {'time': 1701.369, 'key': 'claymore'}, {'time': 1787.914, 'key': 'tpscroll'}, {'time': 1796.046, 'key': 'tpscroll'}], 'kills_log': [{'time': 68.401, 'key': 'npc_dota_hero_slark'}, {'time': 473.369, 'key': 'npc_dota_hero_skeleton_king'}, {'time': 742.836, 'key': 'npc_dota_hero_sven'}, {'time': 751.801, 'key': 'npc_dota_hero_skeleton_king'}, {'time': 960.683, 'key': 'npc_dota_hero_sven'}, {'time': 1083.72, 'key': 'npc_dota_hero_chaos_knight'}, {'time': 1273.14, 'key': 'npc_dota_hero_slark'}, {'time': 1479.023, 'key': 'npc_dota_hero_skeleton_king'}, {'time': 1694.504, 'key': 'npc_dota_hero_sven'}, {'time': 2255.218, 'key': 'npc_dota_hero_sven'}], 'buyback_log': [], 'runes_log': [{'time': 256.688, 'key': 0}, {'time': 394.255, 'key': 3}, {'time': 776.561, 'key': 5}, {'time': 847.344, 'key': 2}], 'obs': {}, 'sen': {}, 'actions': {'1': 6472, '2': 12, '4': 1328, '5': 86, '6': 20, '7': 3, '8': 85, '9': 48, '10': 12, '11': 15, '13': 1, '15': 19, '16': 27, '17': 3, '19': 14, '20': 4, '24': 1, '27': 5, '33': 10}, 'pings': {'0': 26}, 'purchase': {'tpscroll': 8, 'stout_shield': 1, 'branches': 2, 'quelling_blade': 1, 'ring_of_protection': 1, 'gauntlets': 1, 'boots': 1, 'blades_of_attack': 3, 'phase_boots': 1, 'sobi_mask': 1, 'circlet': 1, 'recipe_bracer': 1, 'wind_lace': 1, 'bracer': 1, 'recipe_ancient_janggo': 1, 'ancient_janggo': 1, 'helm_of_iron_will': 1, 'gloves': 1, 'recipe_armlet': 1, 'armlet': 1, 'shadow_amulet': 1, 'invis_sword': 1, 'claymore': 1}, 'gold_reasons': {'0': 791, '1': -2595, '5': 637, '6': 425, '11': 1527, '12': 3999, '13': 3854}, 'xp_reasons': {'0': 1, '1': 8275, '2': 7578}, 'killed': {'npc_dota_creep_badguys_melee': 12096, 'npc_dota_hero_slark': 425, 'npc_dota_creep_badguys_ranged': 1666, 'npc_dota_creep_goodguys_melee': 469, 'npc_dota_badguys_siege': 234, 'npc_dota_neutral_wildkin': 650, 'npc_dota_neutral_polar_furbolg_ursa_warrior': 359, 'npc_dota_neutral_enraged_wildkin': 221, 'npc_dota_hero_skeleton_king': 442, 'npc_dota_neutral_polar_furbolg_champion': 233, 'npc_dota_neutral_dark_troll': 237, 'npc_dota_neutral_dark_troll_warlord': 130, 'npc_dota_neutral_ogre_magi': 235, 'npc_dota_neutral_ogre_mauler': 364, 'npc_dota_neutral_centaur_outrunner': 233, 'npc_dota_neutral_centaur_khan': 192, 'npc_dota_hero_sven': 720, 'npc_dota_neutral_satyr_trickster': 1084, 'npc_dota_neutral_satyr_soulstealer': 673, 'npc_dota_hero_chaos_knight': 70, 'npc_dota_badguys_tower2_mid': 48, 'npc_dota_neutral_alpha_wolf': 327, 'npc_dota_neutral_giant_wolf': 327}, 'item_uses': {'tango_single': 2, 'phase_boots': 38, 'tpscroll': 7, 'ancient_janggo': 6, 'armlet': 44, 'invis_sword': 4}, 'ability_uses': {'kunkka_torrent': 43, 'kunkka_ghostship': 16, 'kunkka_x_marks_the_spot': 8, 'kunkka_return': 1}, 'hero_hits': {'kunkka_tidebringer': 23, 'null': 45, 'kunkka_torrent': 258, 'kunkka_ghostship': 176, 'armlet': 1179}, 'damage': {'npc_dota_creep_badguys_ranged': 6763, 'npc_dota_creep_badguys_melee': 30393, 'npc_dota_hero_chaos_knight': 4076, 'npc_dota_hero_slark': 6616, 'npc_dota_creep_goodguys_melee': 469, 'npc_dota_badguys_tower1_mid': 158, 'npc_dota_badguys_siege': 1122, 'npc_dota_neutral_polar_furbolg_ursa_warrior': 2411, 'npc_dota_neutral_wildkin': 890, 'npc_dota_neutral_enraged_wildkin': 666, 'npc_dota_neutral_polar_furbolg_champion': 1195, 'npc_dota_hero_kunkka': 8115, 'npc_dota_hero_rubick': 852, 'npc_dota_hero_skeleton_king': 4968, 'npc_dota_hero_sven': 5688, 'npc_dota_neutral_dark_troll_warlord': 1526, 'npc_dota_neutral_dark_troll': 2039, 'npc_dota_dark_troll_warlord_skeleton_warrior': 727, 'npc_dota_neutral_ogre_magi': 687, 'npc_dota_neutral_ogre_mauler': 1859, 'npc_dota_neutral_centaur_outrunner': 468, 'npc_dota_neutral_centaur_khan': 1253, 'npc_dota_hero_winter_wyvern': 2538, 'npc_dota_hero_juggernaut': 370, 'npc_dota_neutral_satyr_trickster': 2134, 'npc_dota_neutral_satyr_soulstealer': 2807, 'illusion_npc_dota_hero_chaos_knight': 1964, 'illusion_npc_dota_hero_sven': 518, 'npc_dota_hero_elder_titan': 514, 'npc_dota_hero_tidehunter': 370, 'npc_dota_badguys_tower2_mid': 302, 'npc_dota_creep_badguys_ranged_upgraded': 677, 'npc_dota_neutral_alpha_wolf': 327, 'npc_dota_neutral_giant_wolf': 327}, 'damage_taken': {'npc_dota_hero_chaos_knight': 2097, 'npc_dota_hero_slark': 7370, 'npc_dota_creep_badguys_melee': 352, 'npc_dota_creep_badguys_ranged': 201, 'npc_dota_badguys_tower1_mid': 280, 'npc_dota_badguys_siege': 14, 'npc_dota_neutral_polar_furbolg_ursa_warrior': 286, 'npc_dota_neutral_enraged_wildkin': 32, 'npc_dota_neutral_polar_furbolg_champion': 152, 'npc_dota_hero_sven': 4183, 'npc_dota_hero_winter_wyvern': 2685, 'npc_dota_hero_skeleton_king': 2962, 'npc_dota_hero_kunkka': 8115, 'npc_dota_neutral_dark_troll_warlord': 145, 'npc_dota_neutral_dark_troll': 48, 'npc_dota_dark_troll_warlord_skeleton_warrior': 57, 'npc_dota_neutral_ogre_mauler': 47, 'npc_dota_neutral_ogre_magi': 29, 'npc_dota_neutral_centaur_khan': 251, 'npc_dota_neutral_centaur_outrunner': 23, 'npc_dota_neutral_satyr_trickster': 15, 'npc_dota_neutral_satyr_soulstealer': 127, 'npc_dota_badguys_tower2_mid': 66, 'npc_dota_badguys_tower3_mid': 879, 'npc_dota_goodguys_siege': 9, 'npc_dota_creep_goodguys_melee': 157, 'npc_dota_neutral_small_thunder_lizard': 147, 'npc_dota_neutral_big_thunder_lizard': 201, 'npc_dota_creep_goodguys_ranged': 70, 'npc_dota_hero_elder_titan': 112, 'npc_dota_hero_rubick': 42, 'npc_dota_hero_tidehunter': 447}, 'damage_inflictor': {'kunkka_tidebringer': 4868, 'null': 5797, 'kunkka_torrent': 7468, 'kunkka_ghostship': 7859}, 'runes': {'0': 1, '2': 1, '3': 1, '5': 1}, 'killed_by': {'npc_dota_hero_slark': 3, 'npc_dota_badguys_tower3_mid': 1, 'npc_dota_hero_chaos_knight': 2, 'npc_dota_hero_skeleton_king': 3, 'npc_dota_hero_winter_wyvern': 1, 'npc_dota_hero_sven': 1}, 'kill_streaks': {}, 'multi_kills': {}, 'life_state': {'0': 3707, '1': 44, '2': 1025}, 'healing': {}, 'damage_inflictor_received': {'null': 12268, 'slark_pounce': 340, 'sven_storm_bolt': 772, 'skeleton_king_hellfire_blast': 1032, 'slark_dark_pact': 2036, 'winter_wyvern_splinter_blast': 346, 'winter_wyvern_arctic_burn': 929, 'orb_of_venom': 82, 'sven_great_cleave': 1318, 'chaos_knight_chaos_bolt': 775}, 'randomed': False, 'pred_vict': False, 'gold': 13857, 'lh': 93, 'xp': 15853, 'x': 74, 'y': 76, 'hero_inventory': [{'id': 'item_invis_sword', 'cooldown': 0}, {'id': 'item_ancient_janggo', 'cooldown': 0}, {'id': 'item_phase_boots', 'cooldown': 0}, {'id': 'item_armlet', 'cooldown': 0}, {'id': 'item_tpscroll', 'num_charges': 1, 'cooldown': 0}], 'hero_stash': [], 'health': 2000, 'max_health': 2000, 'max_mana': 686.938, 'level': 19, 'kills': 8, 'deaths': 11, 'assists': 12, 'denies': 3, 'nearby_creep_death_count': 243}\n"
     ]
    }
   ],
   "source": [
    "from matplotlib import pyplot as plt\n",
    "print(player)\n"
   ]
  },
  {
   "cell_type": "code",
   "execution_count": 29,
   "metadata": {},
   "outputs": [
    {
     "data": {
      "text/plain": [
       "Text(0.5, 1.0, 'Gold change for all players')"
      ]
     },
     "execution_count": 29,
     "metadata": {},
     "output_type": "execute_result"
    },
    {
     "data": {
      "image/png": "[encoded data removed]",
      "text/plain": [
       "<Figure size 640x480 with 1 Axes>"
      ]
     },
     "metadata": {},
     "output_type": "display_data"
    }
   ],
   "source": [
    "for player in match['players']:\n",
    "    plt.plot(player['times'], player['gold_t'])\n",
    "    \n",
    "plt.title('Gold change for all players')"
   ]
  },
  {
   "cell_type": "code",
   "execution_count": 39,
   "metadata": {},
   "outputs": [
    {
     "data": {
      "text/plain": [
       "Text(0.5, 1.0, 'XP change for all players')"
      ]
     },
     "execution_count": 39,
     "metadata": {},
     "output_type": "execute_result"
    },
    {
     "data": {
      "image/png": "[encoded data removed]",
      "text/plain": [
       "<Figure size 640x480 with 1 Axes>"
      ]
     },
     "metadata": {},
     "output_type": "display_data"
    }
   ],
   "source": [
    "for player in match['players']:\n",
    "    plt.plot(player['times'], player['xp_t'])\n",
    "    \n",
    "plt.title('XP change for all players')"
   ]
  },
  {
   "cell_type": "code",
   "execution_count": 41,
   "metadata": {},
   "outputs": [
    {
     "name": "stdout",
     "output_type": "stream",
     "text": [
      "Player 1 keys: ['tango', 'orb_of_venom', 'enchanted_mango', 'tpscroll', 'magic_stick', 'tpscroll', 'clarity', 'clarity', 'boots', 'gauntlets', 'gauntlets', 'clarity', 'ring_of_regen', 'infused_raindrop', 'tpscroll', 'soul_ring', 'tome_of_knowledge', 'branches', 'branches', 'enchanted_mango', 'tpscroll', 'magic_wand', 'void_stone', 'staff_of_wizardry', 'tpscroll', 'tpscroll', 'wind_lace', 'tpscroll', 'tpscroll', 'cyclone', 'chainmail', 'broadsword', 'tpscroll', 'robe', 'blade_mail', 'tpscroll', 'tpscroll', 'ogre_axe', 'belt_of_strength', 'sange', 'heavens_halberd', 'talisman_of_evasion', 'tpscroll', 'tpscroll', 'tpscroll', 'platemail', 'shivas_guard', 'mystic_staff', 'tpscroll', 'ward_observer', 'ward_observer', 'ward_observer', 'ward_observer', 'ward_dispenser', 'ward_sentry', 'ward_dispenser', 'ward_sentry', 'ward_dispenser', 'ward_sentry']\n",
      "Player 2 keys: ['tpscroll', 'courier', 'tango', 'tango', 'ward_observer', 'smoke_of_deceit', 'boots', 'clarity', 'clarity', 'tpscroll', 'tpscroll', 'tpscroll', 'wind_lace', 'smoke_of_deceit', 'ward_observer', 'ward_observer', 'ward_observer', 'clarity', 'tpscroll', 'void_stone', 'tpscroll', 'tpscroll', 'dust', 'tpscroll', 'smoke_of_deceit', 'ward_sentry', 'ward_sentry', 'tome_of_knowledge', 'staff_of_wizardry', 'tpscroll', 'smoke_of_deceit', 'clarity', 'clarity', 'cyclone', 'tpscroll']\n",
      "Player 3 keys: ['tpscroll', 'stout_shield', 'branches', 'quelling_blade', 'ring_of_protection', 'gauntlets', 'branches', 'boots', 'blades_of_attack', 'phase_boots', 'blades_of_attack', 'sobi_mask', 'circlet', 'wind_lace', 'bracer', 'ancient_janggo', 'tpscroll', 'helm_of_iron_will', 'gloves', 'blades_of_attack', 'tpscroll', 'tpscroll', 'armlet', 'tpscroll', 'tpscroll', 'shadow_amulet', 'invis_sword', 'claymore', 'tpscroll', 'tpscroll']\n",
      "Player 4 keys: ['tango', 'branches', 'branches', 'stout_shield', 'ring_of_protection', 'tpscroll', 'enchanted_mango', 'magic_stick', 'magic_wand', 'flask', 'clarity', 'boots', 'clarity', 'circlet', 'blades_of_attack', 'blades_of_attack', 'phase_boots', 'tpscroll', 'tpscroll', 'infused_raindrop', 'urn_of_shadows', 'gloves', 'branches', 'clarity', 'ring_of_regen', 'tpscroll', 'tpscroll', 'ring_of_health', 'tpscroll', 'tpscroll', 'headdress', 'helm_of_the_dominator', 'clarity', 'blink', 'clarity', 'vitality_booster', 'wind_lace', 'flask', 'tpscroll', 'tpscroll', 'tpscroll', 'spirit_vessel', 'tome_of_knowledge', 'clarity', 'enchanted_mango', 'tpscroll', 'flask', 'ward_sentry', 'ward_sentry', 'ward_sentry', 'boots', 'energy_booster', 'ring_of_regen', 'branches', 'headdress', 'chainmail', 'branches', 'buckler', 'mekansm', 'arcane_boots']\n",
      "Player 5 keys: ['quelling_blade', 'stout_shield', 'tango', 'tpscroll', 'ring_of_health', 'boots', 'void_stone', 'pers', 'demon_edge', 'bfury', 'tpscroll', 'shadow_amulet', 'claymore', 'tpscroll', 'invis_sword', 'travel_boots', 'silver_edge', 'ultimate_orb', 'quarterstaff', 'eagle', 'butterfly', 'talisman_of_evasion', 'belt_of_strength', 'javelin', 'basher', 'ring_of_health', 'vanguard', 'vitality_booster', 'abyssal_blade', 'blade_of_alacrity', 'boots_of_elves', 'yasha']\n",
      "Player 6 keys: ['stout_shield', 'tango', 'quelling_blade', 'tpscroll', 'bottle', 'boots', 'tpscroll', 'tpscroll', 'helm_of_iron_will', 'helm_of_iron_will', 'gloves', 'power_treads', 'belt_of_strength', 'gloves', 'blades_of_attack', 'tpscroll', 'tpscroll', 'armlet', 'tpscroll', 'tpscroll', 'blade_of_alacrity', 'boots_of_elves', 'yasha', 'ultimate_orb', 'manta', 'tpscroll', 'platemail', 'dust', 'chainmail', 'tpscroll']\n",
      "Player 7 keys: ['tpscroll', 'stout_shield', 'tango', 'quelling_blade', 'enchanted_mango', 'boots', 'tpscroll', 'tango', 'gloves', 'belt_of_strength', 'power_treads', 'tpscroll', 'tpscroll', 'ogre_axe', 'quarterstaff', 'sobi_mask', 'oblivion_staff', 'echo_sabre', 'robe', 'tpscroll', 'tpscroll', 'tpscroll', 'blade_of_alacrity', 'boots_of_elves', 'yasha', 'ogre_axe', 'belt_of_strength', 'sange', 'sange_and_yasha', 'tpscroll', 'broadsword', 'blades_of_attack', 'lesser_crit', 'tpscroll', 'tpscroll', 'demon_edge', 'tpscroll', 'tpscroll', 'greater_crit']\n",
      "Player 8 keys: ['tpscroll', 'courier', 'tango', 'clarity', 'clarity', 'ward_observer', 'magic_stick', 'branches', 'branches', 'enchanted_mango', 'magic_wand', 'boots', 'tpscroll', 'staff_of_wizardry', 'tpscroll', 'ward_observer', 'ward_observer', 'ward_observer', 'tpscroll', 'ring_of_health', 'ward_observer', 'ward_observer', 'force_staff', 'ward_observer', 'ward_observer', 'dust', 'ward_observer', 'ward_sentry', 'ward_sentry', 'ward_sentry', 'ward_dispenser', 'wind_lace', 'tranquil_boots', 'ring_of_regen', 'tpscroll', 'wind_lace', 'ward_observer', 'void_stone', 'ward_observer', 'ward_observer', 'tpscroll', 'tpscroll', 'aether_lens', 'energy_booster', 'tpscroll']\n",
      "Player 9 keys: ['quelling_blade', 'tango', 'stout_shield', 'tpscroll', 'wind_lace', 'flask', 'gloves', 'boots', 'tpscroll', 'tpscroll', 'hand_of_midas', 'gloves', 'belt_of_strength', 'quarterstaff', 'robe', 'oblivion_staff', 'sobi_mask', 'power_treads', 'tpscroll', 'ogre_axe', 'echo_sabre', 'blink', 'tpscroll', 'mithril_hammer', 'mithril_hammer', 'desolator', 'blight_stone', 'tpscroll', 'hyperstone', 'javelin', 'javelin', 'monkey_king_bar', 'tpscroll']\n",
      "Player 10 keys: ['stout_shield', 'quelling_blade', 'tango', 'tpscroll', 'gloves', 'boots', 'belt_of_strength', 'power_treads', 'tpscroll', 'orb_of_venom', 'magic_stick', 'tpscroll', 'shadow_amulet', 'claymore', 'invis_sword', 'tpscroll', 'tpscroll', 'ogre_axe', 'sobi_mask', 'robe', 'tpscroll', 'quarterstaff', 'oblivion_staff', 'echo_sabre', 'branches', 'branches', 'magic_wand', 'enchanted_mango', 'tpscroll', 'silver_edge', 'ultimate_orb', 'javelin', 'belt_of_strength', 'basher', 'ring_of_health', 'vanguard', 'abyssal_blade', 'vitality_booster']\n"
     ]
    }
   ],
   "source": [
    "keys_list = []\n",
    "\n",
    "for player in match['players']:\n",
    "    player_keys = []  # Создаем пустой список для каждого игрока\n",
    "    for item in player['purchase_log']:\n",
    "        player_keys.append(item['key'])  # Добавляем значение 'key' в список для текущего игрока\n",
    "    keys_list.append(player_keys)  # Добавляем список 'player_keys' в общий список 'keys_list'\n",
    "\n",
    "# Выводим списки ключей для каждого игрока\n",
    "for i, player_keys in enumerate(keys_list):\n",
    "    print(f\"Player {i + 1} keys:\", player_keys)"
   ]
  },
  {
   "cell_type": "code",
   "execution_count": null,
   "metadata": {},
   "outputs": [],
   "source": []
  }
 ],
 "metadata": {
  "kernelspec": {
   "display_name": "venv",
   "language": "python",
   "name": "python3"
  },
  "language_info": {
   "codemirror_mode": {
    "name": "ipython",
    "version": 3
   },
   "file_extension": ".py",
   "mimetype": "text/x-python",
   "name": "python",
   "nbconvert_exporter": "python",
   "pygments_lexer": "ipython3",
   "version": "3.11.9"
  }
 },
 "nbformat": 4,
 "nbformat_minor": 2
}
