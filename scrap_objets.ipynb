{
 "cells": [
  {
   "cell_type": "code",
   "execution_count": 31,
   "metadata": {},
   "outputs": [
    {
     "name": "stdout",
     "output_type": "stream",
     "text": [
      "Название предмета: Town Portal Scroll\n",
      "Название предмета: None\n",
      "Данные успешно сохранены в файл 'items.csv'\n"
     ]
    }
   ],
   "source": [
    "from bs4 import BeautifulSoup\n",
    "import requests\n",
    "import pandas as pd\n",
    "\n",
    "url = 'https://dotacoach.gg/items'\n",
    "response = requests.get(url)\n",
    "html_content = response.text\n",
    "\n",
    "soup = BeautifulSoup(html_content, 'html.parser')\n",
    "\n",
    "items_divs = soup.find_all('div', class_='MuiStack-root css-j7qwjs')\n",
    "\n",
    "items_info = []\n",
    "\n",
    "for item_div in items_divs:\n",
    "\n",
    "        span = item_div.find('span', class_='MuiTypography-root MuiTypography-body1 css-gjkv4n')\n",
    "        if span:\n",
    "            item_name = span.text.strip()\n",
    "        else:\n",
    "            item_name = None\n",
    "\n",
    "\n",
    "        items_info.append({'name': item_name})\n",
    "\n",
    "\n",
    "for item in items_info:\n",
    "    print('Название предмета:', item['name'])\n",
    "\n",
    "df = pd.DataFrame(items_info)\n",
    "\n",
    "# Сохраняем DataFrame в CSV\n",
    "df.to_csv('items.csv', index=False)\n",
    "\n",
    "print(\"Данные успешно сохранены в файл 'items.csv'\")"
   ]
  },
  {
   "cell_type": "code",
   "execution_count": 4,
   "metadata": {},
   "outputs": [],
   "source": []
  },
  {
   "cell_type": "code",
   "execution_count": null,
   "metadata": {},
   "outputs": [],
   "source": []
  }
 ],
 "metadata": {
  "kernelspec": {
   "display_name": "venv",
   "language": "python",
   "name": "python3"
  },
  "language_info": {
   "codemirror_mode": {
    "name": "ipython",
    "version": 3
   },
   "file_extension": ".py",
   "mimetype": "text/x-python",
   "name": "python",
   "nbconvert_exporter": "python",
   "pygments_lexer": "ipython3",
   "version": "3.11.9"
  }
 },
 "nbformat": 4,
 "nbformat_minor": 2
}
